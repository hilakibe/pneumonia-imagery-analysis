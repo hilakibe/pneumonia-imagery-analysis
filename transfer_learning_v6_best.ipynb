{
  "nbformat": 4,
  "nbformat_minor": 0,
  "metadata": {
    "colab": {
      "name": "transfer_learning_v6_best.ipynb",
      "provenance": []
    },
    "kernelspec": {
      "name": "python3",
      "display_name": "Python 3"
    },
    "accelerator": "GPU"
  },
  "cells": [
    {
      "cell_type": "code",
      "metadata": {
        "id": "pXPbeticuZCW",
        "colab_type": "code",
        "colab": {
          "base_uri": "https://localhost:8080/",
          "height": 34
        },
        "outputId": "ab2839fe-1dc4-4174-a37e-060006dc16ba"
      },
      "source": [
        "#Importing the necessary packages \n",
        "from __future__ import absolute_import, division, print_function, unicode_literals\n",
        "\n",
        "#This forces our notebook to use the latest version of tensorflow \n",
        "try:\n",
        "  # %tensorflow_version only exists in Colab.\n",
        "  %tensorflow_version 2.x\n",
        "except Exception:\n",
        "  pass\n",
        "import tensorflow as tf\n",
        "\n",
        "\n",
        "import os\n",
        "import numpy as np\n",
        "import matplotlib.pyplot as plt"
      ],
      "execution_count": 1,
      "outputs": [
        {
          "output_type": "stream",
          "text": [
            "TensorFlow 2.x selected.\n"
          ],
          "name": "stdout"
        }
      ]
    },
    {
      "cell_type": "code",
      "metadata": {
        "id": "C3GdflWou-gz",
        "colab_type": "code",
        "colab": {
          "base_uri": "https://localhost:8080/",
          "height": 71
        },
        "outputId": "572e9003-18f8-4f57-806e-6ae249db80d2"
      },
      "source": [
        "#We need to import our data from the kaggle's datasets\n",
        "#Obtaining our dataset from kaggle\n",
        "#First the kaggle API should be uploaded to our current working directory\n",
        "#Importing our data from Kaggle\n",
        "os.environ['KAGGLE_CONFIG_DIR']='/content/'\n",
        "!kaggle datasets download -d paultimothymooney/chest-xray-pneumonia\n",
        "\n"
      ],
      "execution_count": 7,
      "outputs": [
        {
          "output_type": "stream",
          "text": [
            "Warning: Your Kaggle API key is readable by other users on this system! To fix this, you can run 'chmod 600 /content/kaggle.json'\n",
            "chest-xray-pneumonia.zip: Skipping, found more recently modified local copy (use --force to force download)\n"
          ],
          "name": "stdout"
        }
      ]
    },
    {
      "cell_type": "code",
      "metadata": {
        "id": "KEkWMEW4wXRB",
        "colab_type": "code",
        "colab": {}
      },
      "source": [
        "#Extracting the datasets\n",
        "import zipfile\n",
        "\n",
        "local_zip = '/content/chest-xray-pneumonia.zip'\n",
        "zip_ref = zipfile.ZipFile(local_zip, 'r')\n",
        "zip_ref.extractall('/content')\n",
        "zip_ref.close()"
      ],
      "execution_count": 0,
      "outputs": []
    },
    {
      "cell_type": "markdown",
      "metadata": {
        "id": "D-9wEhPMwW7l",
        "colab_type": "text"
      },
      "source": [
        ""
      ]
    },
    {
      "cell_type": "code",
      "metadata": {
        "id": "F8qXb4N9vKAg",
        "colab_type": "code",
        "colab": {
          "base_uri": "https://localhost:8080/",
          "height": 51
        },
        "outputId": "17916184-f25f-4438-9082-dd1efc42b3cd"
      },
      "source": [
        "base_dir=\"/content/chest_xray\"\n",
        "train = \"/content/chest_xray/train\"\n",
        "test = \"/content/chest_xray/test\"\n",
        "val = \"/content/chest_xray/val\"\n",
        "\n",
        "datagen = tf.keras.preprocessing.image.ImageDataGenerator(\n",
        "    rescale=1./255, \n",
        "    validation_split=0.2)\n",
        "\n",
        "train_generator = datagen.flow_from_directory(\n",
        "    train,\n",
        "    target_size=(IMAGE_SIZE, IMAGE_SIZE),\n",
        "    batch_size=BATCH_SIZE, \n",
        "    subset='training')\n",
        "\n",
        "val_generator = datagen.flow_from_directory(\n",
        "    train,\n",
        "    target_size=(IMAGE_SIZE, IMAGE_SIZE),\n",
        "    batch_size=BATCH_SIZE, \n",
        "    subset='validation')"
      ],
      "execution_count": 18,
      "outputs": [
        {
          "output_type": "stream",
          "text": [
            "Found 4173 images belonging to 2 classes.\n",
            "Found 1043 images belonging to 2 classes.\n"
          ],
          "name": "stdout"
        }
      ]
    },
    {
      "cell_type": "code",
      "metadata": {
        "id": "pN4mYgouzg32",
        "colab_type": "code",
        "colab": {
          "base_uri": "https://localhost:8080/",
          "height": 34
        },
        "outputId": "337559d2-e85a-4a73-8312-26615e3c46a3"
      },
      "source": [
        "for image_batch, label_batch in train_generator:\n",
        "  break\n",
        "image_batch.shape, label_batch.shape"
      ],
      "execution_count": 19,
      "outputs": [
        {
          "output_type": "execute_result",
          "data": {
            "text/plain": [
              "((64, 224, 224, 3), (64, 2))"
            ]
          },
          "metadata": {
            "tags": []
          },
          "execution_count": 19
        }
      ]
    },
    {
      "cell_type": "code",
      "metadata": {
        "id": "XdSa5wjMznCL",
        "colab_type": "code",
        "colab": {
          "base_uri": "https://localhost:8080/",
          "height": 34
        },
        "outputId": "03f71893-0926-4308-dd21-c2dafa7bf718"
      },
      "source": [
        "print (train_generator.class_indices)\n",
        "\n",
        "labels = '\\n'.join(sorted(train_generator.class_indices.keys()))\n",
        "\n",
        "with open('labels.txt', 'w') as f:\n",
        "  f.write(labels)"
      ],
      "execution_count": 20,
      "outputs": [
        {
          "output_type": "stream",
          "text": [
            "{'NORMAL': 0, 'PNEUMONIA': 1}\n"
          ],
          "name": "stdout"
        }
      ]
    },
    {
      "cell_type": "code",
      "metadata": {
        "id": "o-uINT_ozq-Y",
        "colab_type": "code",
        "colab": {
          "base_uri": "https://localhost:8080/",
          "height": 71
        },
        "outputId": "41f3929c-d6f4-4cac-aedc-b9ac2da3538c"
      },
      "source": [
        "IMG_SHAPE = (IMAGE_SIZE, IMAGE_SIZE, 3)\n",
        "\n",
        "# Create the base model from the pre-trained model MobileNet V2\n",
        "base_model = tf.keras.applications.MobileNetV2(input_shape=IMG_SHAPE,\n",
        "                                              include_top=False, \n",
        "                                              weights='imagenet')"
      ],
      "execution_count": 21,
      "outputs": [
        {
          "output_type": "stream",
          "text": [
            "Downloading data from https://github.com/JonathanCMitchell/mobilenet_v2_keras/releases/download/v1.1/mobilenet_v2_weights_tf_dim_ordering_tf_kernels_1.0_224_no_top.h5\n",
            "9412608/9406464 [==============================] - 0s 0us/step\n"
          ],
          "name": "stdout"
        }
      ]
    },
    {
      "cell_type": "code",
      "metadata": {
        "id": "3IwRfZKUzvp5",
        "colab_type": "code",
        "colab": {}
      },
      "source": [
        "base_model.trainable = False"
      ],
      "execution_count": 0,
      "outputs": []
    },
    {
      "cell_type": "code",
      "metadata": {
        "id": "QBNumAF7zzVr",
        "colab_type": "code",
        "colab": {}
      },
      "source": [
        "model = tf.keras.Sequential([\n",
        "  base_model,\n",
        "  tf.keras.layers.Conv2D(32, 3, activation='relu'),\n",
        "  tf.keras.layers.Dropout(0.2),\n",
        "  tf.keras.layers.GlobalAveragePooling2D(),\n",
        "  tf.keras.layers.Dense(2, activation='sigmoid')\n",
        "])"
      ],
      "execution_count": 0,
      "outputs": []
    },
    {
      "cell_type": "code",
      "metadata": {
        "id": "PXksPo-gz6xy",
        "colab_type": "code",
        "colab": {}
      },
      "source": [
        "model.compile(optimizer='rmsprop', \n",
        "              loss='binary_crossentropy', \n",
        "              metrics=['accuracy'])"
      ],
      "execution_count": 0,
      "outputs": []
    },
    {
      "cell_type": "code",
      "metadata": {
        "id": "WukO3tdl0C_a",
        "colab_type": "code",
        "colab": {
          "base_uri": "https://localhost:8080/",
          "height": 326
        },
        "outputId": "cd3b7a5c-7ccd-4787-befb-be62c6056c95"
      },
      "source": [
        "#Improving accuracy using callbacks \n",
        "from keras.callbacks import EarlyStopping\n",
        "early_stopping=EarlyStopping(monitor='val_accuracy', \n",
        "                             min_delta=0.05, \n",
        "                             patience=3, \n",
        "                             verbose=0, \n",
        "                             mode='auto', \n",
        "                             baseline=None, \n",
        "                             restore_best_weights=True\n",
        "                            )\n",
        "\n",
        "history=model.fit_generator(\n",
        "    train_generator,\n",
        "    callbacks=[early_stopping],\n",
        "    epochs=15,\n",
        "    validation_data=val_generator,\n",
        "    )"
      ],
      "execution_count": 29,
      "outputs": [
        {
          "output_type": "stream",
          "text": [
            "WARNING:tensorflow:sample_weight modes were coerced from\n",
            "  ...\n",
            "    to  \n",
            "  ['...']\n",
            "WARNING:tensorflow:sample_weight modes were coerced from\n",
            "  ...\n",
            "    to  \n",
            "  ['...']\n",
            "Train for 66 steps, validate for 17 steps\n",
            "Epoch 1/15\n",
            "66/66 [==============================] - 51s 779ms/step - loss: 0.1053 - accuracy: 0.9581 - val_loss: 1.9549 - val_accuracy: 0.7430\n",
            "Epoch 2/15\n",
            "66/66 [==============================] - 51s 774ms/step - loss: 0.0900 - accuracy: 0.9654 - val_loss: 1.2348 - val_accuracy: 0.7450\n",
            "Epoch 3/15\n",
            "66/66 [==============================] - 51s 774ms/step - loss: 0.0705 - accuracy: 0.9730 - val_loss: 2.3300 - val_accuracy: 0.7430\n",
            "Epoch 4/15\n",
            "66/66 [==============================] - 51s 776ms/step - loss: 0.0548 - accuracy: 0.9780 - val_loss: 2.7989 - val_accuracy: 0.7435\n"
          ],
          "name": "stdout"
        }
      ]
    },
    {
      "cell_type": "code",
      "metadata": {
        "id": "Nn1q8aFN2dvX",
        "colab_type": "code",
        "colab": {
          "base_uri": "https://localhost:8080/",
          "height": 513
        },
        "outputId": "a913550e-857a-4f24-8c77-ba285ace0e0b"
      },
      "source": [
        "acc = history.history['accuracy']\n",
        "val_acc = history.history['val_accuracy']\n",
        "\n",
        "loss = history.history['loss']\n",
        "val_loss = history.history['val_loss']\n",
        "\n",
        "plt.figure(figsize=(8, 8))\n",
        "plt.subplot(2, 1, 1)\n",
        "plt.plot(acc, label='Training Accuracy')\n",
        "plt.plot(val_acc, label='Validation Accuracy')\n",
        "plt.legend(loc='lower right')\n",
        "plt.ylabel('Accuracy')\n",
        "plt.ylim([min(plt.ylim()),1])\n",
        "plt.title('Training and Validation Accuracy')\n",
        "\n",
        "plt.subplot(2, 1, 2)\n",
        "plt.plot(loss, label='Training Loss')\n",
        "plt.plot(val_loss, label='Validation Loss')\n",
        "plt.legend(loc='upper right')\n",
        "plt.ylabel('Cross Entropy')\n",
        "plt.ylim([0,1.0])\n",
        "plt.title('Training and Validation Loss')\n",
        "plt.xlabel('epoch')\n",
        "plt.show()"
      ],
      "execution_count": 30,
      "outputs": [
        {
          "output_type": "display_data",
          "data": {
            "image/png": "[encoded data removed]",
            "text/plain": [
              "<Figure size 576x576 with 2 Axes>"
            ]
          },
          "metadata": {
            "tags": []
          }
        }
      ]
    },
    {
      "cell_type": "code",
      "metadata": {
        "id": "NrvW3IOI2jTb",
        "colab_type": "code",
        "colab": {}
      },
      "source": [
        "base_model.trainable = True"
      ],
      "execution_count": 0,
      "outputs": []
    },
    {
      "cell_type": "code",
      "metadata": {
        "id": "godq8k5L2pf6",
        "colab_type": "code",
        "colab": {
          "base_uri": "https://localhost:8080/",
          "height": 34
        },
        "outputId": "cb08dfed-16dc-4649-8787-8d34c85e0eb7"
      },
      "source": [
        "# Let's take a look to see how many layers are in the base model\n",
        "print(\"Number of layers in the base model: \", len(base_model.layers))\n",
        "\n",
        "# Fine tune from this layer onwards\n",
        "fine_tune_at = 100\n",
        "\n",
        "# Freeze all the layers before the `fine_tune_at` layer\n",
        "for layer in base_model.layers[:fine_tune_at]:\n",
        "  layer.trainable =  False"
      ],
      "execution_count": 32,
      "outputs": [
        {
          "output_type": "stream",
          "text": [
            "Number of layers in the base model:  155\n"
          ],
          "name": "stdout"
        }
      ]
    },
    {
      "cell_type": "code",
      "metadata": {
        "id": "YVNhgKhA2xtc",
        "colab_type": "code",
        "colab": {}
      },
      "source": [
        "model.compile(optimizer='rmsprop', \n",
        "              loss='binary_crossentropy', \n",
        "              metrics=['accuracy'])"
      ],
      "execution_count": 0,
      "outputs": []
    },
    {
      "cell_type": "code",
      "metadata": {
        "id": "4TRgGL3O25I7",
        "colab_type": "code",
        "colab": {
          "base_uri": "https://localhost:8080/",
          "height": 870
        },
        "outputId": "3cf91f3b-ab73-4ede-dc5f-2a91ab34833a"
      },
      "source": [
        "#Improving accuracy using callbacks \n",
        "from keras.callbacks import EarlyStopping\n",
        "early_stopping=EarlyStopping(monitor='val_accuracy', \n",
        "                             min_delta=0.05, \n",
        "                             patience=20, \n",
        "                             verbose=0, \n",
        "                             mode='auto', \n",
        "                             baseline=None, \n",
        "                             restore_best_weights=True\n",
        "                            )\n",
        "\n",
        "history=model.fit_generator(\n",
        "    train_generator,\n",
        "    callbacks=[early_stopping],\n",
        "    epochs=20,\n",
        "    validation_data=val_generator,\n",
        "    )"
      ],
      "execution_count": 39,
      "outputs": [
        {
          "output_type": "stream",
          "text": [
            "WARNING:tensorflow:sample_weight modes were coerced from\n",
            "  ...\n",
            "    to  \n",
            "  ['...']\n",
            "WARNING:tensorflow:sample_weight modes were coerced from\n",
            "  ...\n",
            "    to  \n",
            "  ['...']\n",
            "Train for 66 steps, validate for 17 steps\n",
            "Epoch 1/20\n",
            "66/66 [==============================] - 53s 802ms/step - loss: 0.0120 - accuracy: 0.9972 - val_loss: 3.8455 - val_accuracy: 0.8504\n",
            "Epoch 2/20\n",
            "66/66 [==============================] - 52s 793ms/step - loss: 0.0222 - accuracy: 0.9963 - val_loss: 12.8476 - val_accuracy: 0.7502\n",
            "Epoch 3/20\n",
            "66/66 [==============================] - 52s 781ms/step - loss: 0.0078 - accuracy: 0.9983 - val_loss: 19.2463 - val_accuracy: 0.7440\n",
            "Epoch 4/20\n",
            "66/66 [==============================] - 52s 784ms/step - loss: 0.0091 - accuracy: 0.9972 - val_loss: 40.6226 - val_accuracy: 0.7430\n",
            "Epoch 5/20\n",
            "66/66 [==============================] - 52s 782ms/step - loss: 0.0081 - accuracy: 0.9986 - val_loss: 53.0394 - val_accuracy: 0.7430\n",
            "Epoch 6/20\n",
            "66/66 [==============================] - 52s 788ms/step - loss: 0.0155 - accuracy: 0.9981 - val_loss: 9.1281 - val_accuracy: 0.7493\n",
            "Epoch 7/20\n",
            "66/66 [==============================] - 52s 784ms/step - loss: 0.0052 - accuracy: 0.9984 - val_loss: 46.8951 - val_accuracy: 0.7430\n",
            "Epoch 8/20\n",
            "66/66 [==============================] - 51s 777ms/step - loss: 0.0056 - accuracy: 0.9989 - val_loss: 40.0119 - val_accuracy: 0.7440\n",
            "Epoch 9/20\n",
            "66/66 [==============================] - 51s 778ms/step - loss: 2.3037e-04 - accuracy: 1.0000 - val_loss: 39.3213 - val_accuracy: 0.7450\n",
            "Epoch 10/20\n",
            "66/66 [==============================] - 51s 779ms/step - loss: 0.0095 - accuracy: 0.9986 - val_loss: 73.6068 - val_accuracy: 0.7430\n",
            "Epoch 11/20\n",
            "66/66 [==============================] - 51s 776ms/step - loss: 0.0124 - accuracy: 0.9982 - val_loss: 47.2742 - val_accuracy: 0.7430\n",
            "Epoch 12/20\n",
            "66/66 [==============================] - 52s 782ms/step - loss: 0.0018 - accuracy: 0.9993 - val_loss: 13.6857 - val_accuracy: 0.7737\n",
            "Epoch 13/20\n",
            "66/66 [==============================] - 52s 780ms/step - loss: 0.0084 - accuracy: 0.9983 - val_loss: 15.2344 - val_accuracy: 0.7565\n",
            "Epoch 14/20\n",
            "66/66 [==============================] - 51s 775ms/step - loss: 0.0200 - accuracy: 0.9981 - val_loss: 22.4581 - val_accuracy: 0.7488\n",
            "Epoch 15/20\n",
            "66/66 [==============================] - 51s 778ms/step - loss: 0.0052 - accuracy: 0.9987 - val_loss: 16.4557 - val_accuracy: 0.7713\n",
            "Epoch 16/20\n",
            "66/66 [==============================] - 51s 780ms/step - loss: 0.0055 - accuracy: 0.9989 - val_loss: 1.3425 - val_accuracy: 0.9420\n",
            "Epoch 17/20\n",
            "66/66 [==============================] - 51s 773ms/step - loss: 0.0027 - accuracy: 0.9992 - val_loss: 15.5712 - val_accuracy: 0.7977\n",
            "Epoch 18/20\n",
            "66/66 [==============================] - 51s 778ms/step - loss: 1.3471e-06 - accuracy: 1.0000 - val_loss: 13.0919 - val_accuracy: 0.8073\n",
            "Epoch 19/20\n",
            "66/66 [==============================] - 51s 773ms/step - loss: 3.6108e-07 - accuracy: 1.0000 - val_loss: 9.9679 - val_accuracy: 0.8169\n",
            "Epoch 20/20\n",
            "66/66 [==============================] - 51s 770ms/step - loss: 1.3342e-08 - accuracy: 1.0000 - val_loss: 7.0874 - val_accuracy: 0.8341\n"
          ],
          "name": "stdout"
        }
      ]
    },
    {
      "cell_type": "code",
      "metadata": {
        "id": "tanK1Qva3Xsc",
        "colab_type": "code",
        "colab": {
          "base_uri": "https://localhost:8080/",
          "height": 513
        },
        "outputId": "493877d9-ac70-466a-d77b-11b36d203156"
      },
      "source": [
        "acc = history.history['accuracy']\n",
        "val_acc = history.history['val_accuracy']\n",
        "\n",
        "loss = history.history['loss']\n",
        "val_loss = history.history['val_loss']\n",
        "\n",
        "plt.figure(figsize=(8, 8))\n",
        "plt.subplot(2, 1, 1)\n",
        "plt.plot(acc, label='Training Accuracy')\n",
        "plt.plot(val_acc, label='Validation Accuracy')\n",
        "plt.legend(loc='lower right')\n",
        "plt.ylabel('Accuracy')\n",
        "plt.ylim([min(plt.ylim()),1])\n",
        "plt.title('Training and Validation Accuracy')\n",
        "\n",
        "plt.subplot(2, 1, 2)\n",
        "plt.plot(loss, label='Training Loss')\n",
        "plt.plot(val_loss, label='Validation Loss')\n",
        "plt.legend(loc='upper right')\n",
        "plt.ylabel('Cross Entropy')\n",
        "plt.ylim([0,1.0])\n",
        "plt.title('Training and Validation Loss')\n",
        "plt.xlabel('epoch')\n",
        "plt.show()"
      ],
      "execution_count": 40,
      "outputs": [
        {
          "output_type": "display_data",
          "data": {
            "image/png": "[encoded data removed]",
            "text/plain": [
              "<Figure size 576x576 with 2 Axes>"
            ]
          },
          "metadata": {
            "tags": []
          }
        }
      ]
    },
    {
      "cell_type": "code",
      "metadata": {
        "id": "gv0SOACI3bVN",
        "colab_type": "code",
        "colab": {
          "base_uri": "https://localhost:8080/",
          "height": 105
        },
        "outputId": "95844ed5-b3b6-4822-9011-6180f60f013b"
      },
      "source": [
        "saved_model_dir = 'save/fine_tuning'\n",
        "tf.saved_model.save(model, saved_model_dir)\n",
        "\n",
        "converter = tf.lite.TFLiteConverter.from_saved_model(saved_model_dir)\n",
        "tflite_model = converter.convert()\n",
        "\n",
        "with open('model.tflite', 'wb') as f:\n",
        "  f.write(tflite_model)"
      ],
      "execution_count": 41,
      "outputs": [
        {
          "output_type": "stream",
          "text": [
            "WARNING:tensorflow:From /tensorflow-2.1.0/python3.6/tensorflow_core/python/ops/resource_variable_ops.py:1786: calling BaseResourceVariable.__init__ (from tensorflow.python.ops.resource_variable_ops) with constraint is deprecated and will be removed in a future version.\n",
            "Instructions for updating:\n",
            "If using Keras pass *_constraint arguments to layers.\n",
            "INFO:tensorflow:Assets written to: save/fine_tuning/assets\n"
          ],
          "name": "stdout"
        }
      ]
    }
  ]
}